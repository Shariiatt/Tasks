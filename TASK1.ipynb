{
  "nbformat": 4,
  "nbformat_minor": 0,
  "metadata": {
    "colab": {
      "name": "TASK1.ipynb",
      "provenance": [],
      "collapsed_sections": []
    },
    "kernelspec": {
      "name": "python3",
      "display_name": "Python 3"
    }
  },
  "cells": [
    {
      "cell_type": "markdown",
      "metadata": {
        "id": "hY9KRuDVSfM5"
      },
      "source": [
        "# **NAME : SHARIAT MUSHAHID**\r\n",
        "**SUPERVISED ML**\r\n",
        "**TASK : PREDICTING STUDENT SCORE BASED ON NO. OF HOURS STUDIED USING LINEAR REGRESSION**"
      ]
    },
    {
      "cell_type": "code",
      "metadata": {
        "id": "ZH7PIMBIMaBA"
      },
      "source": [
        "import pandas as pd"
      ],
      "execution_count": 2,
      "outputs": []
    },
    {
      "cell_type": "markdown",
      "metadata": {
        "id": "uIH-gPjM6VUs"
      },
      "source": [
        "**Importing dataset**"
      ]
    },
    {
      "cell_type": "code",
      "metadata": {
        "id": "Sne7RhVlMnvR"
      },
      "source": [
        "#importing dataset as a dataframe\r\n",
        "data = pd.read_csv(\"http://bit.ly/w-data\")"
      ],
      "execution_count": 3,
      "outputs": []
    },
    {
      "cell_type": "code",
      "metadata": {
        "id": "vdIDvUTqMpWj"
      },
      "source": [
        "#assigning columns\r\n",
        "x= 'Hours'\r\n",
        "y= 'Scores'"
      ],
      "execution_count": 4,
      "outputs": []
    },
    {
      "cell_type": "markdown",
      "metadata": {
        "id": "Qm0L9S8GTSNx"
      },
      "source": [
        "**Plotting Data**"
      ]
    },
    {
      "cell_type": "code",
      "metadata": {
        "colab": {
          "base_uri": "https://localhost:8080/",
          "height": 278
        },
        "id": "vMdPNLxmNVRX",
        "outputId": "40dba547-aff6-4b62-f1d4-7a4a199a0f58"
      },
      "source": [
        "#plotting data\r\n",
        "import matplotlib.pyplot as plt\r\n",
        "\r\n",
        "data.plot(x,y,style='o')\r\n",
        "plt.xlabel('hours')\r\n",
        "plt.ylabel('score')\r\n",
        "plt.show()"
      ],
      "execution_count": 5,
      "outputs": [
        {
          "output_type": "display_data",
          "data": {
            "image/png": "[encoded data removed]",
            "text/plain": [
              "<Figure size 432x288 with 1 Axes>"
            ]
          },
          "metadata": {
            "tags": [],
            "needs_background": "light"
          }
        }
      ]
    },
    {
      "cell_type": "code",
      "metadata": {
        "id": "BqXj1gk-QUBG"
      },
      "source": [
        "#Assigning values to X and Y\r\n",
        "\r\n",
        "X = data.iloc[:,:-1].values\r\n",
        "Y = data.iloc[:,1].values\r\n"
      ],
      "execution_count": 6,
      "outputs": []
    },
    {
      "cell_type": "markdown",
      "metadata": {
        "id": "r2utwb5cZHuu"
      },
      "source": [
        "**Splitting Values**"
      ]
    },
    {
      "cell_type": "code",
      "metadata": {
        "id": "pwf_4f7uTyRc"
      },
      "source": [
        "from sklearn.model_selection import train_test_split\r\n",
        "\r\n",
        "X_train, X_test, Y_train, Y_test = train_test_split(X, Y, test_size = 0.2, random_state=0)\r\n"
      ],
      "execution_count": 7,
      "outputs": []
    },
    {
      "cell_type": "markdown",
      "metadata": {
        "id": "1HABllTxUCos"
      },
      "source": [
        "# **APPLYING LINEAR REGRESSION MODEL**"
      ]
    },
    {
      "cell_type": "code",
      "metadata": {
        "colab": {
          "base_uri": "https://localhost:8080/"
        },
        "id": "GXnqDgR1UBLp",
        "outputId": "88de2161-8400-47de-bd4d-0bd01ee7b77b"
      },
      "source": [
        "from sklearn.linear_model import LinearRegression\r\n",
        "\r\n",
        "model = LinearRegression()\r\n",
        "model.fit(X_train,Y_train)"
      ],
      "execution_count": 8,
      "outputs": [
        {
          "output_type": "execute_result",
          "data": {
            "text/plain": [
              "LinearRegression(copy_X=True, fit_intercept=True, n_jobs=None, normalize=False)"
            ]
          },
          "metadata": {
            "tags": []
          },
          "execution_count": 8
        }
      ]
    },
    {
      "cell_type": "markdown",
      "metadata": {
        "id": "uAJICG1mSPVm"
      },
      "source": [
        "# **EVALUATION OF MODEL**"
      ]
    },
    {
      "cell_type": "code",
      "metadata": {
        "colab": {
          "base_uri": "https://localhost:8080/"
        },
        "id": "fs-iv9NqXXFe",
        "outputId": "f0c99590-b8c6-4c0e-bb30-bf1273287bc1"
      },
      "source": [
        "from sklearn.metrics import mean_squared_error, r2_score , mean_absolute_error # Import performance metrics, mean_squared_error (RMSE), and r2_score (Coefficient of determination)\r\n",
        "\r\n",
        "\r\n",
        "y_predicted = model.predict(X)\r\n",
        "LINE =model.coef_*X+model.intercept_\r\n",
        "# model evaluation\r\n",
        "rmse = mean_squared_error(Y, y_predicted)\r\n",
        "r2 = r2_score(Y, y_predicted)\r\n",
        "abs = mean_absolute_error(Y, y_predicted)\r\n",
        "# printing values\r\n",
        "print('Slope:' ,model.coef_)\r\n",
        "print('Intercept:', model.intercept_)\r\n",
        "print('Root mean squared error: ', rmse)\r\n",
        "print('R2 score: ', r2)\r\n",
        "print('Mean squared error', abs)\r\n"
      ],
      "execution_count": 55,
      "outputs": [
        {
          "output_type": "stream",
          "text": [
            "Slope: [9.91065648]\n",
            "Intercept: 2.018160041434662\n",
            "Root mean squared error:  29.03829976329512\n",
            "R2 score:  0.9526947647057273\n",
            "Mean squared error 4.986053347144894\n"
          ],
          "name": "stdout"
        }
      ]
    },
    {
      "cell_type": "markdown",
      "metadata": {
        "id": "RmHtvyH8UaU_"
      },
      "source": [
        "**PLOTTING REGRESSION LINE:**"
      ]
    },
    {
      "cell_type": "code",
      "metadata": {
        "colab": {
          "base_uri": "https://localhost:8080/",
          "height": 278
        },
        "id": "TtSK8VvBRyX9",
        "outputId": "c5cb3d2a-9a47-4fc2-bb5c-047f1f9c9e30"
      },
      "source": [
        "# plotting values\r\n",
        "\r\n",
        "# data points\r\n",
        "plt.scatter(X, Y, s=10)\r\n",
        "plt.xlabel('hours')\r\n",
        "plt.ylabel('score')\r\n",
        "\r\n",
        "# predicted values\r\n",
        "plt.plot(X, LINE, color='r')\r\n",
        "plt.show()"
      ],
      "execution_count": 56,
      "outputs": [
        {
          "output_type": "display_data",
          "data": {
            "image/png": "[encoded data removed]",
            "text/plain": [
              "<Figure size 432x288 with 1 Axes>"
            ]
          },
          "metadata": {
            "tags": [],
            "needs_background": "light"
          }
        }
      ]
    },
    {
      "cell_type": "code",
      "metadata": {
        "colab": {
          "base_uri": "https://localhost:8080/"
        },
        "id": "6V7OiXJz8Sel",
        "outputId": "f28550b9-59d2-4064-a41f-b19c45c83158"
      },
      "source": [
        "#Predicted values\r\n",
        "print(X_test)\r\n",
        "y_pred = model.predict(X_test)\r\n",
        "y_pred"
      ],
      "execution_count": 57,
      "outputs": [
        {
          "output_type": "stream",
          "text": [
            "[[1.5]\n",
            " [3.2]\n",
            " [7.4]\n",
            " [2.5]\n",
            " [5.9]]\n"
          ],
          "name": "stdout"
        },
        {
          "output_type": "execute_result",
          "data": {
            "text/plain": [
              "array([16.88414476, 33.73226078, 75.357018  , 26.79480124, 60.49103328])"
            ]
          },
          "metadata": {
            "tags": []
          },
          "execution_count": 57
        }
      ]
    },
    {
      "cell_type": "markdown",
      "metadata": {
        "id": "Crwx7ofnVTrr"
      },
      "source": [
        " **VIEWING ACTUAL AND PREDICTED VALUES TOGETHER**"
      ]
    },
    {
      "cell_type": "code",
      "metadata": {
        "colab": {
          "base_uri": "https://localhost:8080/",
          "height": 191
        },
        "id": "WQ8VqRseQnxQ",
        "outputId": "2021f8b0-3b9b-478d-db7b-c5654d4460cd"
      },
      "source": [
        "Value_table = pd.DataFrame({'Given data' : Y_test , 'Predicted values' : y_pred }) \r\n",
        "Value_table"
      ],
      "execution_count": 48,
      "outputs": [
        {
          "output_type": "execute_result",
          "data": {
            "text/html": [
              "<div>\n",
              "<style scoped>\n",
              "    .dataframe tbody tr th:only-of-type {\n",
              "        vertical-align: middle;\n",
              "    }\n",
              "\n",
              "    .dataframe tbody tr th {\n",
              "        vertical-align: top;\n",
              "    }\n",
              "\n",
              "    .dataframe thead th {\n",
              "        text-align: right;\n",
              "    }\n",
              "</style>\n",
              "<table border=\"1\" class=\"dataframe\">\n",
              "  <thead>\n",
              "    <tr style=\"text-align: right;\">\n",
              "      <th></th>\n",
              "      <th>Given data</th>\n",
              "      <th>Predicted values</th>\n",
              "    </tr>\n",
              "  </thead>\n",
              "  <tbody>\n",
              "    <tr>\n",
              "      <th>0</th>\n",
              "      <td>20</td>\n",
              "      <td>16.884145</td>\n",
              "    </tr>\n",
              "    <tr>\n",
              "      <th>1</th>\n",
              "      <td>27</td>\n",
              "      <td>33.732261</td>\n",
              "    </tr>\n",
              "    <tr>\n",
              "      <th>2</th>\n",
              "      <td>69</td>\n",
              "      <td>75.357018</td>\n",
              "    </tr>\n",
              "    <tr>\n",
              "      <th>3</th>\n",
              "      <td>30</td>\n",
              "      <td>26.794801</td>\n",
              "    </tr>\n",
              "    <tr>\n",
              "      <th>4</th>\n",
              "      <td>62</td>\n",
              "      <td>60.491033</td>\n",
              "    </tr>\n",
              "  </tbody>\n",
              "</table>\n",
              "</div>"
            ],
            "text/plain": [
              "   Given data  Predicted values\n",
              "0          20         16.884145\n",
              "1          27         33.732261\n",
              "2          69         75.357018\n",
              "3          30         26.794801\n",
              "4          62         60.491033"
            ]
          },
          "metadata": {
            "tags": []
          },
          "execution_count": 48
        }
      ]
    },
    {
      "cell_type": "markdown",
      "metadata": {
        "id": "Si1faEjrWNw7"
      },
      "source": [
        "# **PERCENTAGE FOR STUDENT STUDYING 9.25 HOURS**"
      ]
    },
    {
      "cell_type": "code",
      "metadata": {
        "id": "M2yHzlSSYx2C",
        "colab": {
          "base_uri": "https://localhost:8080/"
        },
        "outputId": "fa289a73-5abc-4372-afde-624d1c527d9b"
      },
      "source": [
        "#predicting percentage for 8 hours studying student\r\n",
        "hour = 9.25\r\n",
        "hours = [[hour]]\r\n",
        "pred_score = model.predict((hours))\r\n",
        "print(\"score predicted for student studying for \" + str(hour)+\" hours is \" + str(pred_score[0])+\" percent\")"
      ],
      "execution_count": 65,
      "outputs": [
        {
          "output_type": "stream",
          "text": [
            "score predicted for student studying for 9.25 hours is 93.69173248737539 percent\n"
          ],
          "name": "stdout"
        }
      ]
    },
    {
      "cell_type": "code",
      "metadata": {
        "id": "rb7Baf0QPkdB"
      },
      "source": [
        ""
      ],
      "execution_count": null,
      "outputs": []
    },
    {
      "cell_type": "code",
      "metadata": {
        "id": "lNvV-I_K8RCB"
      },
      "source": [
        ""
      ],
      "execution_count": null,
      "outputs": []
    }
  ]
}